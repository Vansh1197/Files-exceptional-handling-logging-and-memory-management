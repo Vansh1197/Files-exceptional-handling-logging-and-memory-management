{
  "nbformat": 4,
  "nbformat_minor": 0,
  "metadata": {
    "colab": {
      "provenance": []
    },
    "kernelspec": {
      "name": "python3",
      "display_name": "Python 3"
    },
    "language_info": {
      "name": "python"
    }
  },
  "cells": [
    {
      "cell_type": "markdown",
      "source": [
        "Theory Questions"
      ],
      "metadata": {
        "id": "9Qwsr44faeYQ"
      }
    },
    {
      "cell_type": "markdown",
      "source": [
        "1.What is the difference between interpreted and compiled languages?\n",
        " >> Interpreted languages are executed line-by-line by an interpreter at runtime, without being converted into machine code beforehand.\n",
        " >>Compiled languages are translated into machine code by a compiler before execution, allowing the program to run directly on the hardware."
      ],
      "metadata": {
        "id": "XfKfZU9aah97"
      }
    },
    {
      "cell_type": "markdown",
      "source": [
        "2.What is exception handling in Python?\n",
        " >> Exception handling in Python is the process of managing runtime errors using constructs like try, except, else, and finally to prevent program crashes and allow graceful error recovery.\n",
        "\n"
      ],
      "metadata": {
        "id": "-oi9bCI2ah6Q"
      }
    },
    {
      "cell_type": "markdown",
      "source": [
        "3.What is the purpose of the finally block in exception handling?\n",
        " >> The finally block in exception handling is used to execute code that must run regardless of whether an exception occurs or not."
      ],
      "metadata": {
        "id": "yjuN-fRpah2n"
      }
    },
    {
      "cell_type": "markdown",
      "source": [
        "4.What is logging in Python?\n",
        " >> Logging in Python is the process of recording program execution details, errors, and informational messages for debugging and monitoring purposes."
      ],
      "metadata": {
        "id": "nNyVIfL7ahzO"
      }
    },
    {
      "cell_type": "markdown",
      "source": [
        "5.What is the significance of the __del__ method in Python?\n",
        " >> The __del__ method in Python is a destructor that is called automatically when an object is about to be destroyed to perform cleanup operations.\n",
        "\n"
      ],
      "metadata": {
        "id": "X1LnomV9ahu1"
      }
    },
    {
      "cell_type": "markdown",
      "source": [
        "6.What is the difference between import and from ... import in Python?\n",
        " >>  import imports the entire module, whereas from ... import imports specific attributes or functions from a module."
      ],
      "metadata": {
        "id": "0fnerrt0ahpG"
      }
    },
    {
      "cell_type": "markdown",
      "source": [
        "7.How can you handle multiple exceptions in Python?\n",
        " >> You can handle multiple exceptions in Python by specifying multiple except clauses or by using a single except clause with a tuple of exception types."
      ],
      "metadata": {
        "id": "HTYv5CQKaeU1"
      }
    },
    {
      "cell_type": "markdown",
      "source": [
        "8.What is the purpose of the with statement when handling files in Python?\n",
        " >> The with statement in Python is used to ensure that resources like files are properly managed by automatically closing them after use, even if an exception occurs.\n"
      ],
      "metadata": {
        "id": "8-RckHPTaeRc"
      }
    },
    {
      "cell_type": "markdown",
      "source": [
        "9.What is the difference between multithreading and multiprocessing?\n",
        " >> Multithreading uses multiple threads within the same process to share memory and resources, while multiprocessing uses multiple processes, each with its own memory space, to run tasks in parallel.\n"
      ],
      "metadata": {
        "id": "WkfOtqYAaeOG"
      }
    },
    {
      "cell_type": "markdown",
      "source": [
        "10.What are the advantages of using logging in a program?\n",
        " >> The advantages of using logging in a program are:\n",
        "\n",
        " >>Provides a record of events for debugging and troubleshooting.\n",
        "\n",
        " >>Allows different levels of importance (e.g., DEBUG, INFO, WARNING, ERROR, CRITICAL).\n",
        "\n",
        " >>Helps monitor program execution in real time or from saved logs.\n",
        "\n",
        " >>Enables persistent storage of issues for future analysis.\n",
        "\n",
        " >>Can be configured to output to multiple destinations (console, files, etc.)."
      ],
      "metadata": {
        "id": "wVEpaYa0aeKr"
      }
    },
    {
      "cell_type": "markdown",
      "source": [
        "11.What is memory management in Python?\n",
        " >> Memory management in Python is the process of allocating and freeing memory automatically using a built-in garbage collector to manage objects and resources.\n",
        "\n"
      ],
      "metadata": {
        "id": "gsUGF06Nb1Jn"
      }
    },
    {
      "cell_type": "markdown",
      "source": [
        "12.What are the basic steps involved in exception handling in Python?\n",
        " >> The basic steps involved in exception handling in Python are:\n",
        "\n",
        " >> Try block – Place the code that might raise an exception inside a try block.\n",
        "\n",
        " >> Except block – Handle the exception if it occurs using one or more except blocks."
      ],
      "metadata": {
        "id": "pS5qUz6Jb1BS"
      }
    },
    {
      "cell_type": "markdown",
      "source": [
        "13.Why is memory management important in Python?\n",
        " >> Memory management is important in Python to ensure efficient use of available memory, prevent memory leaks, improve program performance, and avoid crashes due to excessive memory usage."
      ],
      "metadata": {
        "id": "rnrn7OMGb04J"
      }
    },
    {
      "cell_type": "markdown",
      "source": [
        "14.What is the role of try and except in exception handling?\n",
        " >>\n",
        "In exception handling, the try block contains code that may raise an exception, and the except block contains code to handle the exception if it occurs"
      ],
      "metadata": {
        "id": "t_eV4un0b0uR"
      }
    },
    {
      "cell_type": "markdown",
      "source": [
        "15.How does Python's garbage collection system work?\n",
        " >> Python's garbage collection system works by automatically freeing memory occupied by objects that are no longer referenced, primarily using reference counting and cyclic garbage collection to detect and remove unused objects"
      ],
      "metadata": {
        "id": "HLIXsYbxb0k2"
      }
    },
    {
      "cell_type": "markdown",
      "source": [
        "16.What is the purpose of the else block in exception handling?\n",
        " >> The else block in exception handling is used to execute code only if no exceptions occur in the try block.\n"
      ],
      "metadata": {
        "id": "fE6mTmYzb0dF"
      }
    },
    {
      "cell_type": "markdown",
      "source": [
        "17.What is the purpose of the else block in exception handling?\n",
        " >> The else block in exception handling is used to run code only when the try block executes successfully without raising any exceptions."
      ],
      "metadata": {
        "id": "f0tP8-I9b0T9"
      }
    },
    {
      "cell_type": "markdown",
      "source": [
        "18.What is the difference between os.fork() and multiprocessing in Python?\n",
        " >> os.fork() creates a new child process by duplicating the current process, and is available only on Unix-like systems, while the multiprocessing module provides a cross-platform API to create and manage separate processes, offering higher-level features like process pools and inter-process communication."
      ],
      "metadata": {
        "id": "OB67_A88b0L5"
      }
    },
    {
      "cell_type": "markdown",
      "source": [
        "19.What is the importance of closing a file in Python?\n",
        " >> Closing a file in Python is important to free system resources, ensure all data is properly written to disk, and prevent file corruption or access issues."
      ],
      "metadata": {
        "id": "XzD5lIf4b0Ce"
      }
    },
    {
      "cell_type": "markdown",
      "source": [
        "20.What is the difference between file.read() and file.readline() in Python?\n",
        " >> file.read() reads the entire file (or a specified number of bytes) as a single string, while file.readline() reads one line from the file at a time.\n"
      ],
      "metadata": {
        "id": "pLJ4lwkXbz6s"
      }
    },
    {
      "cell_type": "markdown",
      "source": [
        "21.What is the logging module in Python used for?\n",
        " >> The logging module in Python is used for recording messages about a program’s execution, such as errors, warnings, and informational events, to help with debugging and monitoring.\n"
      ],
      "metadata": {
        "id": "oEQPasMWbzwR"
      }
    },
    {
      "cell_type": "markdown",
      "source": [
        "22.What is the os module in Python used for in file handling?\n",
        " >> The os module in Python is used in file handling to interact with the operating system, enabling tasks like creating, deleting, and navigating directories, as well as managing file paths and metadata"
      ],
      "metadata": {
        "id": "ZHesHTfAbznr"
      }
    },
    {
      "cell_type": "markdown",
      "source": [
        "23.What are the challenges associated with memory management in Python?\n",
        " >> hallenges associated with memory management in Python include:\n",
        "\n",
        ">> Memory leaks due to lingering references to unused objects.\n",
        "\n",
        " >> High memory usage from large data structures or inefficient code.\n",
        "\n",
        " >> Garbage collection overhead impacting performance.\n",
        "\n",
        " >> Circular references that require extra work for the garbage collector to clean up.\n",
        "\n",
        " >> Fragmentation of memory over time in long-running programs."
      ],
      "metadata": {
        "id": "6YIkaQCtaeGP"
      }
    },
    {
      "cell_type": "markdown",
      "source": [
        "24.How do you raise an exception manually in Python?\n",
        " >> Raising an exception manually in Python means using the raise statement to trigger a specific exception during program execution."
      ],
      "metadata": {
        "id": "KjP8KIUhfNQ0"
      }
    },
    {
      "cell_type": "markdown",
      "source": [
        "5.Why is it important to use multithreading in certain applications?\n",
        " >> It is important to use multithreading in certain applications to improve performance by allowing multiple tasks to run concurrently, especially for I/O-bound operations.\n"
      ],
      "metadata": {
        "id": "y7M55C9Gad-b"
      }
    },
    {
      "cell_type": "markdown",
      "source": [
        "Practical questions"
      ],
      "metadata": {
        "id": "Xqpie7Yjb2CG"
      }
    },
    {
      "cell_type": "markdown",
      "source": [
        "1 How can you open a file for writing in Python and write a string to it\n",
        "\n",
        "\n"
      ],
      "metadata": {
        "id": "41Eo5AXpaioF"
      }
    },
    {
      "cell_type": "code",
      "source": [
        "# Open a file in write mode ('w')\n",
        "# If the file doesn't exist, it will be created.\n",
        "# If the file exists, its contents will be overwritten.\n",
        "try:\n",
        "    with open(\"my_file.txt\", \"w\") as file:\n",
        "        # Write a string to the file\n",
        "        file.write(\"Hello, this is a test string.\")\n",
        "    print(\"Successfully wrote to my_file.txt\")\n",
        "except IOError as e:\n",
        "    print(f\"Error writing to file: {e}\")"
      ],
      "metadata": {
        "colab": {
          "base_uri": "https://localhost:8080/"
        },
        "id": "pC0-M66VnYoD",
        "outputId": "d6b8e35a-d2d0-402f-b9b5-27c1b6143e50"
      },
      "execution_count": 4,
      "outputs": [
        {
          "output_type": "stream",
          "name": "stdout",
          "text": [
            "Successfully wrote to my_file.txt\n"
          ]
        }
      ]
    },
    {
      "cell_type": "markdown",
      "source": [
        "2.Write a Python program to read the contents of a file and print each line?"
      ],
      "metadata": {
        "id": "TSNgBSoLaijJ"
      }
    },
    {
      "cell_type": "code",
      "source": [
        "# Write some content to 'my_file.txt' first so we have something to read\n",
        "try:\n",
        "    with open(\"my_file.txt\", \"w\") as file:\n",
        "        file.write(\"This is the first line.\\n\")\n",
        "        file.write(\"This is the second line.\\n\")\n",
        "        file.write(\"This is the third line.\\n\")\n",
        "    print(\"Content written to my_file.txt for reading.\")\n",
        "except IOError as e:\n",
        "    print(f\"Error writing to file: {e}\")\n",
        "\n",
        "print(\"\\nReading content from my_file.txt:\")\n",
        "# Open the file in read mode ('r')\n",
        "try:\n",
        "    with open(\"my_file.txt\", \"r\") as file:\n",
        "        # Read and print each line\n",
        "        for line in file:\n",
        "            print(line, end='') # end='' prevents adding extra newlines\n",
        "except FileNotFoundError:\n",
        "    print(\"Error: The file 'my_file.txt' was not found.\")\n",
        "except IOError as e:\n",
        "    print(f\"Error reading file: {e}\")"
      ],
      "metadata": {
        "colab": {
          "base_uri": "https://localhost:8080/"
        },
        "id": "IXUjiIW1oBGa",
        "outputId": "bac2ac1f-7234-486e-870a-33356eef2815"
      },
      "execution_count": 5,
      "outputs": [
        {
          "output_type": "stream",
          "name": "stdout",
          "text": [
            "Content written to my_file.txt for reading.\n",
            "\n",
            "Reading content from my_file.txt:\n",
            "This is the first line.\n",
            "This is the second line.\n",
            "This is the third line.\n"
          ]
        }
      ]
    },
    {
      "cell_type": "markdown",
      "source": [
        "3.How would you handle a case where the file doesn't exist while trying to open it for reading?"
      ],
      "metadata": {
        "id": "SlM-AbafaifP"
      }
    },
    {
      "cell_type": "code",
      "source": [
        "try:\n",
        "    with open(\"non_existent_file.txt\", \"r\") as file:\n",
        "        content = file.read()\n",
        "        print(content)\n",
        "except FileNotFoundError:\n",
        "    print(\"Error: The file was not found.\")\n",
        "except IOError as e:\n",
        "    print(f\"An error occurred while reading the file: {e}\")"
      ],
      "metadata": {
        "colab": {
          "base_uri": "https://localhost:8080/"
        },
        "id": "h41GmGvXoN7P",
        "outputId": "a15578fc-6dae-470f-d1ef-41aa2866fed9"
      },
      "execution_count": 6,
      "outputs": [
        {
          "output_type": "stream",
          "name": "stdout",
          "text": [
            "Error: The file was not found.\n"
          ]
        }
      ]
    },
    {
      "cell_type": "markdown",
      "source": [
        "4.Write a Python script that reads from one file and writes its content to another file?"
      ],
      "metadata": {
        "id": "BZ9km3i4aibE"
      }
    },
    {
      "cell_type": "code",
      "source": [
        "# Create a source file for reading\n",
        "try:\n",
        "    with open(\"source_file.txt\", \"w\") as source_file:\n",
        "        source_file.write(\"This is the content of the source file.\\n\")\n",
        "        source_file.write(\"This is another line in the source file.\")\n",
        "    print(\"Created 'source_file.txt' for reading.\")\n",
        "except IOError as e:\n",
        "    print(f\"Error creating source file: {e}\")\n",
        "\n",
        "# Read from the source file and write to the destination file\n",
        "try:\n",
        "    with open(\"source_file.txt\", \"r\") as source_file:\n",
        "        with open(\"destination_file.txt\", \"w\") as destination_file:\n",
        "            for line in source_file:\n",
        "                destination_file.write(line)\n",
        "    print(\"Successfully copied content from 'source_file.txt' to 'destination_file.txt'.\")\n",
        "except FileNotFoundError:\n",
        "    print(\"Error: The source file was not found.\")\n",
        "except IOError as e:\n",
        "    print(f\"An error occurred during file processing: {e}\")\n",
        "\n",
        "# Optional: Read and print the content of the destination file to verify\n",
        "print(\"\\nContent of 'destination_file.txt':\")\n",
        "try:\n",
        "    with open(\"destination_file.txt\", \"r\") as destination_file:\n",
        "        content = destination_file.read()\n",
        "        print(content)\n",
        "except FileNotFoundError:\n",
        "    print(\"Error: The destination file was not found.\")\n",
        "except IOError as e:\n",
        "    print(f\"An error occurred while reading the destination file: {e}\")"
      ],
      "metadata": {
        "colab": {
          "base_uri": "https://localhost:8080/"
        },
        "id": "58CDdcdhoW3I",
        "outputId": "29d6b2df-5988-43e5-96f8-32bb2e6b0f63"
      },
      "execution_count": 7,
      "outputs": [
        {
          "output_type": "stream",
          "name": "stdout",
          "text": [
            "Created 'source_file.txt' for reading.\n",
            "Successfully copied content from 'source_file.txt' to 'destination_file.txt'.\n",
            "\n",
            "Content of 'destination_file.txt':\n",
            "This is the content of the source file.\n",
            "This is another line in the source file.\n"
          ]
        }
      ]
    },
    {
      "cell_type": "markdown",
      "source": [
        "5.How would you catch and handle division by zero error in Python?"
      ],
      "metadata": {
        "id": "S0DFJhq4aiWq"
      }
    },
    {
      "cell_type": "code",
      "source": [
        "try:\n",
        "    numerator = 10\n",
        "    denominator = 0\n",
        "    result = numerator / denominator\n",
        "    print(result)\n",
        "except ZeroDivisionError:\n",
        "    print(\"Error: Division by zero is not allowed.\")\n",
        "except Exception as e:\n",
        "    print(f\"An unexpected error occurred: {e}\")"
      ],
      "metadata": {
        "colab": {
          "base_uri": "https://localhost:8080/"
        },
        "id": "i6i3sDGooj4t",
        "outputId": "2515a65f-c4c7-4306-ba47-2a56a653fcc9"
      },
      "execution_count": 8,
      "outputs": [
        {
          "output_type": "stream",
          "name": "stdout",
          "text": [
            "Error: Division by zero is not allowed.\n"
          ]
        }
      ]
    },
    {
      "cell_type": "markdown",
      "source": [
        "6.Write a Python program that logs an error message to a log file when a division by zero exception occurs?"
      ],
      "metadata": {
        "id": "FKKSxN3HaiSe"
      }
    },
    {
      "cell_type": "code",
      "source": [
        "import logging\n",
        "\n",
        "# Configure logging to write to a file\n",
        "logging.basicConfig(filename='app.log', level=logging.ERROR,\n",
        "                    format='%(asctime)s - %(levelname)s - %(message)s')\n",
        "\n",
        "try:\n",
        "    numerator = 10\n",
        "    denominator = 0\n",
        "    result = numerator / denominator\n",
        "    print(result)\n",
        "except ZeroDivisionError:\n",
        "    error_message = \"Attempted to divide by zero.\"\n",
        "    logging.error(error_message)\n",
        "    print(f\"An error occurred and was logged: {error_message}\")\n",
        "except Exception as e:\n",
        "    error_message = f\"An unexpected error occurred: {e}\"\n",
        "    logging.error(error_message)\n",
        "    print(f\"An unexpected error occurred and was logged: {error_message}\")"
      ],
      "metadata": {
        "colab": {
          "base_uri": "https://localhost:8080/"
        },
        "id": "OdR3I4KPor3Y",
        "outputId": "3fa68804-3eed-425a-af77-7343b5478842"
      },
      "execution_count": 9,
      "outputs": [
        {
          "output_type": "stream",
          "name": "stderr",
          "text": [
            "ERROR:root:Attempted to divide by zero.\n"
          ]
        },
        {
          "output_type": "stream",
          "name": "stdout",
          "text": [
            "An error occurred and was logged: Attempted to divide by zero.\n"
          ]
        }
      ]
    },
    {
      "cell_type": "markdown",
      "source": [
        "7.How do you log information at different levels (INFO, ERROR, WARNING) in Python using the logging module?"
      ],
      "metadata": {
        "id": "t6gfikKvaiO0"
      }
    },
    {
      "cell_type": "code",
      "source": [
        "import logging\n",
        "\n",
        "# Configure logging to the console\n",
        "logging.basicConfig(level=logging.INFO, format='%(asctime)s - %(levelname)s - %(message)s')\n",
        "\n",
        "# Log messages at different levels\n",
        "logging.info(\"This is an informational message.\")\n",
        "logging.warning(\"This is a warning message.\")\n",
        "logging.error(\"This is an error message.\")\n",
        "logging.debug(\"This is a debug message (will not be shown by default).\")\n",
        "logging.critical(\"This is a critical message.\")"
      ],
      "metadata": {
        "colab": {
          "base_uri": "https://localhost:8080/"
        },
        "id": "CfgRB6PPqNgV",
        "outputId": "173a7d76-ffb0-4aac-83dc-d2bbf16cef0d"
      },
      "execution_count": 15,
      "outputs": [
        {
          "output_type": "stream",
          "name": "stderr",
          "text": [
            "WARNING:root:This is a warning message.\n",
            "ERROR:root:This is an error message.\n",
            "CRITICAL:root:This is a critical message.\n"
          ]
        }
      ]
    },
    {
      "cell_type": "markdown",
      "source": [
        "8.Write a program to handle a file opening error using exception handling?"
      ],
      "metadata": {
        "id": "jlOOjQcQaiLc"
      }
    },
    {
      "cell_type": "code",
      "source": [
        "try:\n",
        "    # Attempt to open a file that does not exist\n",
        "    with open(\"non_existent_file_to_handle.txt\", \"r\") as file:\n",
        "        content = file.read()\n",
        "        print(content)\n",
        "except FileNotFoundError:\n",
        "    print(\"Error: Could not open the file because it was not found.\")\n",
        "except IOError as e:\n",
        "    print(f\"An input/output error occurred: {e}\")"
      ],
      "metadata": {
        "colab": {
          "base_uri": "https://localhost:8080/"
        },
        "id": "_n327sVsqUDV",
        "outputId": "287a9a64-7e93-49c0-c742-5aeff6c8f0a1"
      },
      "execution_count": 16,
      "outputs": [
        {
          "output_type": "stream",
          "name": "stdout",
          "text": [
            "Error: Could not open the file because it was not found.\n"
          ]
        }
      ]
    },
    {
      "cell_type": "markdown",
      "source": [
        "9.How can you read a file line by line and store its content in a list in Python?"
      ],
      "metadata": {
        "id": "ws3bELgxaiID"
      }
    },
    {
      "cell_type": "code",
      "source": [
        "# Create a sample file for reading line by line\n",
        "try:\n",
        "    with open(\"lines_file.txt\", \"w\") as f:\n",
        "        f.write(\"First line\\n\")\n",
        "        f.write(\"Second line\\n\")\n",
        "        f.write(\"Third line\\n\")\n",
        "    print(\"Created 'lines_file.txt' for reading line by line.\")\n",
        "except IOError as e:\n",
        "    print(f\"Error creating file: {e}\")\n",
        "\n",
        "# Read the file line by line and store in a list\n",
        "lines_list = []\n",
        "try:\n",
        "    with open(\"lines_file.txt\", \"r\") as f:\n",
        "        for line in f:\n",
        "            lines_list.append(line.strip()) # .strip() removes leading/trailing whitespace, including newline characters\n",
        "    print(\"\\nContent of 'lines_file.txt' read into a list:\")\n",
        "    print(lines_list)\n",
        "except FileNotFoundError:\n",
        "    print(\"Error: The file 'lines_file.txt' was not found.\")\n",
        "except IOError as e:\n",
        "    print(f\"Error reading file: {e}\")"
      ],
      "metadata": {
        "colab": {
          "base_uri": "https://localhost:8080/"
        },
        "id": "CUXCsx6hqZyQ",
        "outputId": "c17da7ed-769b-47a0-b96f-c3c62ded382d"
      },
      "execution_count": 17,
      "outputs": [
        {
          "output_type": "stream",
          "name": "stdout",
          "text": [
            "Created 'lines_file.txt' for reading line by line.\n",
            "\n",
            "Content of 'lines_file.txt' read into a list:\n",
            "['First line', 'Second line', 'Third line']\n"
          ]
        }
      ]
    },
    {
      "cell_type": "markdown",
      "source": [
        "10.How can you append data to an existing file in Python?\n"
      ],
      "metadata": {
        "id": "amRrxeE0aiEr"
      }
    },
    {
      "cell_type": "code",
      "source": [
        "# Create a file first if it doesn't exist, or just ensure it's there\n",
        "try:\n",
        "    with open(\"append_file.txt\", \"w\") as f:\n",
        "        f.write(\"This is the original content.\\n\")\n",
        "    print(\"Created 'append_file.txt' with original content.\")\n",
        "except IOError as e:\n",
        "    print(f\"Error creating file: {e}\")\n",
        "\n",
        "# Append data to the existing file\n",
        "try:\n",
        "    with open(\"append_file.txt\", \"a\") as f:\n",
        "        f.write(\"This line is appended.\\n\")\n",
        "        f.write(\"This is another appended line.\")\n",
        "    print(\"\\nSuccessfully appended data to 'append_file.txt'.\")\n",
        "except IOError as e:\n",
        "    print(f\"Error appending to file: {e}\")\n",
        "\n",
        "# Optional: Read and print the content of the file to verify\n",
        "print(\"\\nContent of 'append_file.txt' after appending:\")\n",
        "try:\n",
        "    with open(\"append_file.txt\", \"r\") as f:\n",
        "        content = f.read()\n",
        "        print(content)\n",
        "except FileNotFoundError:\n",
        "    print(\"Error: The file 'append_file.txt' was not found.\")\n",
        "except IOError as e:\n",
        "    print(f\"Error reading file: {e}\")"
      ],
      "metadata": {
        "colab": {
          "base_uri": "https://localhost:8080/"
        },
        "id": "KLpGrCJaqyE8",
        "outputId": "e2bfe191-e565-4986-a9ca-fc91b69a744f"
      },
      "execution_count": 18,
      "outputs": [
        {
          "output_type": "stream",
          "name": "stdout",
          "text": [
            "Created 'append_file.txt' with original content.\n",
            "\n",
            "Successfully appended data to 'append_file.txt'.\n",
            "\n",
            "Content of 'append_file.txt' after appending:\n",
            "This is the original content.\n",
            "This line is appended.\n",
            "This is another appended line.\n"
          ]
        }
      ]
    },
    {
      "cell_type": "markdown",
      "source": [
        "11.Write a Python program that uses a try-except block to handle an error when attempting to access a dictionary key that doesn't exist?"
      ],
      "metadata": {
        "id": "1GlYRQ0HaiBS"
      }
    },
    {
      "cell_type": "code",
      "source": [
        "my_dict = {\"name\": \"Alice\", \"age\": 30}\n",
        "\n",
        "try:\n",
        "    # Attempt to access a key that doesn't exist\n",
        "    city = my_dict[\"city\"]\n",
        "    print(city)\n",
        "except KeyError:\n",
        "    print(\"Error: The requested dictionary key does not exist.\")\n",
        "except Exception as e:\n",
        "    print(f\"An unexpected error occurred: {e}\")"
      ],
      "metadata": {
        "colab": {
          "base_uri": "https://localhost:8080/"
        },
        "id": "WGRacREKq9tO",
        "outputId": "45cc8244-66a4-4052-f44c-1effcd6cf4af"
      },
      "execution_count": 19,
      "outputs": [
        {
          "output_type": "stream",
          "name": "stdout",
          "text": [
            "Error: The requested dictionary key does not exist.\n"
          ]
        }
      ]
    },
    {
      "cell_type": "markdown",
      "source": [
        "12.Write a program that demonstrates using\n",
        "multiple except blocks to handle different types of exceptions?"
      ],
      "metadata": {
        "id": "GB7mfFBHb80v"
      }
    },
    {
      "cell_type": "code",
      "source": [
        "def cautious_division(numerator, denominator, data_list, index):\n",
        "    try:\n",
        "        # Attempt division\n",
        "        result = numerator / denominator\n",
        "        print(f\"Division result: {result}\")\n",
        "\n",
        "        # Attempt list access\n",
        "        value = data_list[index]\n",
        "        print(f\"Value at index {index}: {value}\")\n",
        "\n",
        "    except ZeroDivisionError:\n",
        "        print(\"Error: Cannot divide by zero!\")\n",
        "    except IndexError:\n",
        "        print(f\"Error: Index {index} is out of range for the list.\")\n",
        "    except TypeError:\n",
        "        print(\"Error: Invalid data types for the operation.\")\n",
        "    except Exception as e:\n",
        "        print(f\"An unexpected error occurred: {e}\")\n",
        "\n",
        "# --- Examples ---\n",
        "\n",
        "# Example 1: ZeroDivisionError\n",
        "print(\"--- Example 1 (ZeroDivisionError) ---\")\n",
        "cautious_division(10, 0, [1, 2, 3], 1)\n",
        "print(\"-\" * 20)\n",
        "\n",
        "# Example 2: IndexError\n",
        "print(\"--- Example 2 (IndexError) ---\")\n",
        "cautious_division(10, 2, [1, 2, 3], 5)\n",
        "print(\"-\" * 20)\n",
        "\n",
        "# Example 3: No exception\n",
        "print(\"--- Example 3 (No exception) ---\")\n",
        "cautious_division(10, 2, [1, 2, 3], 1)\n",
        "print(\"-\" * 20)\n",
        "\n",
        "# Example 4: TypeError\n",
        "print(\"--- Example 4 (TypeError) ---\")\n",
        "cautious_division(10, \"a\", [1, 2, 3], 1)\n",
        "print(\"-\" * 20)"
      ],
      "metadata": {
        "colab": {
          "base_uri": "https://localhost:8080/"
        },
        "id": "3G86ZizmqHoR",
        "outputId": "cc650b1f-a54f-41c7-b08d-206af0a96fd5"
      },
      "execution_count": 20,
      "outputs": [
        {
          "output_type": "stream",
          "name": "stdout",
          "text": [
            "--- Example 1 (ZeroDivisionError) ---\n",
            "Error: Cannot divide by zero!\n",
            "--------------------\n",
            "--- Example 2 (IndexError) ---\n",
            "Division result: 5.0\n",
            "Error: Index 5 is out of range for the list.\n",
            "--------------------\n",
            "--- Example 3 (No exception) ---\n",
            "Division result: 5.0\n",
            "Value at index 1: 2\n",
            "--------------------\n",
            "--- Example 4 (TypeError) ---\n",
            "Error: Invalid data types for the operation.\n",
            "--------------------\n"
          ]
        }
      ]
    },
    {
      "cell_type": "markdown",
      "source": [
        "13.How would you check if a file exists before attempting to read it in Python?\n",
        "\n"
      ],
      "metadata": {
        "id": "t20__seYb9d3"
      }
    },
    {
      "cell_type": "code",
      "source": [
        "import os\n",
        "\n",
        "file_path = \"my_existing_file.txt\"\n",
        "non_existent_file_path = \"my_non_existent_file.txt\"\n",
        "\n",
        "# Create a dummy file to test the existence check\n",
        "try:\n",
        "    with open(file_path, \"w\") as f:\n",
        "        f.write(\"This file exists.\")\n",
        "    print(f\"Created '{file_path}' for testing.\")\n",
        "except IOError as e:\n",
        "    print(f\"Error creating test file: {e}\")\n",
        "\n",
        "\n",
        "print(f\"\\nChecking if '{file_path}' exists:\")\n",
        "if os.path.exists(file_path):\n",
        "    print(f\"'{file_path}' exists. You can now safely attempt to read it.\")\n",
        "    try:\n",
        "        with open(file_path, \"r\") as f:\n",
        "            content = f.read()\n",
        "            print(f\"Content: {content}\")\n",
        "    except IOError as e:\n",
        "        print(f\"Error reading file: {e}\")\n",
        "else:\n",
        "    print(f\"'{file_path}' does not exist.\")\n",
        "\n",
        "print(f\"\\nChecking if '{non_existent_file_path}' exists:\")\n",
        "if os.path.exists(non_existent_file_path):\n",
        "    print(f\"'{non_existent_file_path}' exists. You can now safely attempt to read it.\")\n",
        "    # You would read the file here\n",
        "else:\n",
        "    print(f\"'{non_existent_file_path}' does not exist.\")\n",
        "\n",
        "# Clean up the dummy file\n",
        "try:\n",
        "    if os.path.exists(file_path):\n",
        "        os.remove(file_path)\n",
        "        print(f\"\\nCleaned up '{file_path}'.\")\n",
        "except OSError as e:\n",
        "    print(f\"Error removing test file: {e}\")"
      ],
      "metadata": {
        "colab": {
          "base_uri": "https://localhost:8080/"
        },
        "id": "M6rjqDIxrUhX",
        "outputId": "766532a2-c58b-4777-b896-f82a754f39bd"
      },
      "execution_count": 21,
      "outputs": [
        {
          "output_type": "stream",
          "name": "stdout",
          "text": [
            "Created 'my_existing_file.txt' for testing.\n",
            "\n",
            "Checking if 'my_existing_file.txt' exists:\n",
            "'my_existing_file.txt' exists. You can now safely attempt to read it.\n",
            "Content: This file exists.\n",
            "\n",
            "Checking if 'my_non_existent_file.txt' exists:\n",
            "'my_non_existent_file.txt' does not exist.\n",
            "\n",
            "Cleaned up 'my_existing_file.txt'.\n"
          ]
        }
      ]
    },
    {
      "cell_type": "markdown",
      "source": [
        "14.Write a program that uses the logging module to log both informational and error messages?"
      ],
      "metadata": {
        "id": "tlHokG64cFK3"
      }
    },
    {
      "cell_type": "code",
      "source": [
        "import logging\n",
        "\n",
        "# Configure logging to the console\n",
        "logging.basicConfig(level=logging.INFO, format='%(asctime)s - %(levelname)s - %(message)s')\n",
        "\n",
        "# Log an informational message\n",
        "logging.info(\"This is an informational message.\")\n",
        "\n",
        "# Log an error message\n",
        "try:\n",
        "    result = 10 / 0\n",
        "except ZeroDivisionError:\n",
        "    logging.error(\"An error occurred: Division by zero.\")\n",
        "\n",
        "print(\"Logging example complete.\")"
      ],
      "metadata": {
        "colab": {
          "base_uri": "https://localhost:8080/"
        },
        "id": "pQctcFllrfVz",
        "outputId": "9fc58fc4-c975-4860-dbed-91366b623de1"
      },
      "execution_count": 22,
      "outputs": [
        {
          "output_type": "stream",
          "name": "stderr",
          "text": [
            "ERROR:root:An error occurred: Division by zero.\n"
          ]
        },
        {
          "output_type": "stream",
          "name": "stdout",
          "text": [
            "Logging example complete.\n"
          ]
        }
      ]
    },
    {
      "cell_type": "markdown",
      "source": [
        "15.Write a Python program that prints the content of a file and handles the case when the file is empty?\n",
        "\n"
      ],
      "metadata": {
        "id": "XIKlBXc_cNNs"
      }
    },
    {
      "cell_type": "code",
      "source": [
        "import os\n",
        "\n",
        "file_path_empty = \"empty_file.txt\"\n",
        "file_path_with_content = \"file_with_content.txt\"\n",
        "\n",
        "# Create an empty file for testing\n",
        "try:\n",
        "    with open(file_path_empty, \"w\") as f:\n",
        "        pass # Create an empty file\n",
        "    print(f\"Created empty file: '{file_path_empty}'\")\n",
        "except IOError as e:\n",
        "    print(f\"Error creating empty file: {e}\")\n",
        "\n",
        "# Create a file with content for testing\n",
        "try:\n",
        "    with open(file_path_with_content, \"w\") as f:\n",
        "        f.write(\"This file has some content.\\n\")\n",
        "        f.write(\"Another line of content.\")\n",
        "    print(f\"Created file with content: '{file_path_with_content}'\")\n",
        "except IOError as e:\n",
        "    print(f\"Error creating file with content: {e}\")\n",
        "\n",
        "def print_file_content(file_path):\n",
        "    print(f\"\\nAttempting to read '{file_path}':\")\n",
        "    try:\n",
        "        with open(file_path, \"r\") as file:\n",
        "            content = file.read()\n",
        "            if content:\n",
        "                print(\"File Content:\")\n",
        "                print(content)\n",
        "            else:\n",
        "                print(\"The file is empty.\")\n",
        "    except FileNotFoundError:\n",
        "        print(\"Error: The file was not found.\")\n",
        "    except IOError as e:\n",
        "        print(f\"An error occurred while reading the file: {e}\")\n",
        "\n",
        "# Test with the empty file\n",
        "print_file_content(file_path_empty)\n",
        "\n",
        "# Test with the file with content\n",
        "print_file_content(file_path_with_content)\n",
        "\n",
        "# Test with a non-existent file\n",
        "print_file_content(\"non_existent_file_for_empty_check.txt\")\n",
        "\n",
        "# Clean up the dummy files\n",
        "try:\n",
        "    if os.path.exists(file_path_empty):\n",
        "        os.remove(file_path_empty)\n",
        "        print(f\"\\nCleaned up '{file_path_empty}'.\")\n",
        "    if os.path.exists(file_path_with_content):\n",
        "        os.remove(file_path_with_content)\n",
        "        print(f\"Cleaned up '{file_path_with_content}'.\")\n",
        "except OSError as e:\n",
        "    print(f\"Error removing test files: {e}\")"
      ],
      "metadata": {
        "colab": {
          "base_uri": "https://localhost:8080/"
        },
        "id": "U9_AvMnFrlo8",
        "outputId": "58cc6c01-5d61-4fe1-d979-1880553a727d"
      },
      "execution_count": 23,
      "outputs": [
        {
          "output_type": "stream",
          "name": "stdout",
          "text": [
            "Created empty file: 'empty_file.txt'\n",
            "Created file with content: 'file_with_content.txt'\n",
            "\n",
            "Attempting to read 'empty_file.txt':\n",
            "The file is empty.\n",
            "\n",
            "Attempting to read 'file_with_content.txt':\n",
            "File Content:\n",
            "This file has some content.\n",
            "Another line of content.\n",
            "\n",
            "Attempting to read 'non_existent_file_for_empty_check.txt':\n",
            "Error: The file was not found.\n",
            "\n",
            "Cleaned up 'empty_file.txt'.\n",
            "Cleaned up 'file_with_content.txt'.\n"
          ]
        }
      ]
    },
    {
      "cell_type": "markdown",
      "source": [
        "17.Write a Python program to create and write a list of numbers to a file, one number per line?"
      ],
      "metadata": {
        "id": "3CXnvbXxcbv5"
      }
    },
    {
      "cell_type": "code",
      "source": [
        "numbers = [10, 20, 30, 40, 50]\n",
        "file_path = \"numbers.txt\"\n",
        "\n",
        "try:\n",
        "    with open(file_path, \"w\") as f:\n",
        "        for number in numbers:\n",
        "            f.write(str(number) + \"\\n\")\n",
        "    print(f\"Successfully wrote numbers to '{file_path}'.\")\n",
        "except IOError as e:\n",
        "    print(f\"Error writing to file: {e}\")\n",
        "\n",
        "# Optional: Read and print the content to verify\n",
        "print(f\"\\nContent of '{file_path}':\")\n",
        "try:\n",
        "    with open(file_path, \"r\") as f:\n",
        "        content = f.read()\n",
        "        print(content)\n",
        "except FileNotFoundError:\n",
        "    print(f\"Error: The file '{file_path}' was not found.\")\n",
        "except IOError as e:\n",
        "    print(f\"Error reading file: {e}\")"
      ],
      "metadata": {
        "colab": {
          "base_uri": "https://localhost:8080/"
        },
        "id": "0jtCHnuPshUc",
        "outputId": "7aae3be2-4ece-412a-86cd-d3965d99ce8f"
      },
      "execution_count": 27,
      "outputs": [
        {
          "output_type": "stream",
          "name": "stdout",
          "text": [
            "Successfully wrote numbers to 'numbers.txt'.\n",
            "\n",
            "Content of 'numbers.txt':\n",
            "10\n",
            "20\n",
            "30\n",
            "40\n",
            "50\n",
            "\n"
          ]
        }
      ]
    },
    {
      "cell_type": "markdown",
      "source": [
        "18.How would you implement a basic logging setup that logs to a file with rotation after 1MB?"
      ],
      "metadata": {
        "id": "aKHW5Q0wcgUm"
      }
    },
    {
      "cell_type": "code",
      "source": [
        "import logging\n",
        "from logging.handlers import RotatingFileHandler\n",
        "import os\n",
        "\n",
        "log_file = \"rotated_log.log\"\n",
        "max_bytes = 1024 * 1024  # 1MB\n",
        "backup_count = 5  # Keep up to 5 old log files\n",
        "\n",
        "# Configure the rotating file handler\n",
        "handler = RotatingFileHandler(log_file, maxBytes=max_bytes, backupCount=backup_count)\n",
        "\n",
        "# Configure the logger\n",
        "logging.basicConfig(level=logging.INFO,\n",
        "                    format='%(asctime)s - %(levelname)s - %(message)s',\n",
        "                    handlers=[handler])\n",
        "\n",
        "# Log some messages to demonstrate rotation\n",
        "print(f\"Logging messages to '{log_file}' with rotation after {max_bytes} bytes.\")\n",
        "for i in range(1000): # Log enough messages to trigger rotation\n",
        "    logging.info(f\"This is log message number {i}\")\n",
        "\n",
        "print(\"Logging complete. Check the log file(s) for rotation.\")\n",
        "\n",
        "# Optional: Clean up the created log files (for demonstration purposes)\n",
        "# This part is just for cleanup and not part of the logging setup itself\n",
        "# try:\n",
        "#     for j in range(backup_count + 1):\n",
        "#         file_to_remove = f\"{log_file}.{j}\" if j > 0 else log_file\n",
        "#         if os.path.exists(file_to_remove):\n",
        "#             os.remove(file_to_remove)\n",
        "#             print(f\"Removed {file_to_remove}\")\n",
        "# except OSError as e:\n",
        "#     print(f\"Error removing log files: {e}\")"
      ],
      "metadata": {
        "colab": {
          "base_uri": "https://localhost:8080/"
        },
        "id": "0RdJHSJ1spUZ",
        "outputId": "df6c2970-fb5e-463e-9ca0-47fec996ffca"
      },
      "execution_count": 28,
      "outputs": [
        {
          "output_type": "stream",
          "name": "stdout",
          "text": [
            "Logging messages to 'rotated_log.log' with rotation after 1048576 bytes.\n",
            "Logging complete. Check the log file(s) for rotation.\n"
          ]
        }
      ]
    },
    {
      "cell_type": "markdown",
      "source": [
        "19.Write a program that handles both IndexError and KeyError using a try-except block?"
      ],
      "metadata": {
        "id": "CcCrEQadcl_G"
      }
    },
    {
      "cell_type": "code",
      "source": [
        "def access_data(data, index, key):\n",
        "    try:\n",
        "        # Attempt list access\n",
        "        list_value = data[index]\n",
        "        print(f\"Value at index {index}: {list_value}\")\n",
        "\n",
        "        # Attempt dictionary access\n",
        "        dict_value = data[key]\n",
        "        print(f\"Value for key '{key}': {dict_value}\")\n",
        "\n",
        "    except (IndexError, KeyError) as e:\n",
        "        print(f\"Error: An index or key error occurred: {e}\")\n",
        "    except Exception as e:\n",
        "        print(f\"An unexpected error occurred: {e}\")\n",
        "\n",
        "# --- Examples ---\n",
        "\n",
        "# Example 1: IndexError\n",
        "print(\"--- Example 1 (IndexError) ---\")\n",
        "access_data([1, 2, 3], 5, \"name\")\n",
        "print(\"-\" * 20)\n",
        "\n",
        "# Example 2: KeyError\n",
        "print(\"--- Example 2 (KeyError) ---\")\n",
        "access_data({\"name\": \"Alice\", \"age\": 30}, 0, \"city\")\n",
        "print(\"-\" * 20)\n",
        "\n",
        "# Example 3: No exception (assuming data is a dictionary with the key)\n",
        "print(\"--- Example 3 (No exception) ---\")\n",
        "access_data({\"name\": \"Alice\", \"age\": 30}, 0, \"name\") # Note: list access will still fail if data is a dict\n",
        "print(\"-\" * 20)\n",
        "\n",
        "# Example 4: No exception (assuming data is a list with the index)\n",
        "print(\"--- Example 4 (No exception) ---\")\n",
        "access_data([1, 2, 3], 1, \"name\") # Note: dictionary access will still fail if data is a list\n",
        "print(\"-\" * 20)"
      ],
      "metadata": {
        "colab": {
          "base_uri": "https://localhost:8080/"
        },
        "id": "b6gSPwv3syhv",
        "outputId": "5c1c6053-408b-4156-da5d-ac89acb76ba0"
      },
      "execution_count": 29,
      "outputs": [
        {
          "output_type": "stream",
          "name": "stdout",
          "text": [
            "--- Example 1 (IndexError) ---\n",
            "Error: An index or key error occurred: list index out of range\n",
            "--------------------\n",
            "--- Example 2 (KeyError) ---\n",
            "Error: An index or key error occurred: 0\n",
            "--------------------\n",
            "--- Example 3 (No exception) ---\n",
            "Error: An index or key error occurred: 0\n",
            "--------------------\n",
            "--- Example 4 (No exception) ---\n",
            "Value at index 1: 2\n",
            "An unexpected error occurred: list indices must be integers or slices, not str\n",
            "--------------------\n"
          ]
        }
      ]
    },
    {
      "cell_type": "markdown",
      "source": [
        "20.How would you open a file and read its contents using a context manager in Python?"
      ],
      "metadata": {
        "id": "dkO5rLzdcrEG"
      }
    },
    {
      "cell_type": "code",
      "source": [
        "# Create a sample file for reading\n",
        "try:\n",
        "    with open(\"context_manager_file.txt\", \"w\") as f:\n",
        "        f.write(\"This file was opened using a context manager.\\n\")\n",
        "        f.write(\"The file will be automatically closed.\")\n",
        "    print(\"Created 'context_manager_file.txt' for reading with context manager.\")\n",
        "except IOError as e:\n",
        "    print(f\"Error creating file: {e}\")\n",
        "\n",
        "# Open and read the file using a context manager\n",
        "print(\"\\nReading 'context_manager_file.txt' using a context manager:\")\n",
        "try:\n",
        "    with open(\"context_manager_file.txt\", \"r\") as file:\n",
        "        content = file.read()\n",
        "        print(content)\n",
        "except FileNotFoundError:\n",
        "    print(\"Error: The file was not found.\")\n",
        "except IOError as e:\n",
        "    print(f\"Error reading file: {e}\")"
      ],
      "metadata": {
        "colab": {
          "base_uri": "https://localhost:8080/"
        },
        "id": "wLnhQ6t_s77D",
        "outputId": "c4edfd57-c9df-45c0-bfe0-517a44b61cfd"
      },
      "execution_count": 30,
      "outputs": [
        {
          "output_type": "stream",
          "name": "stdout",
          "text": [
            "Created 'context_manager_file.txt' for reading with context manager.\n",
            "\n",
            "Reading 'context_manager_file.txt' using a context manager:\n",
            "This file was opened using a context manager.\n",
            "The file will be automatically closed.\n"
          ]
        }
      ]
    },
    {
      "cell_type": "markdown",
      "source": [
        "21.Write a Python program that reads a file and prints the number of occurrences of a specific word?"
      ],
      "metadata": {
        "id": "VWUpyP1zcwnC"
      }
    },
    {
      "cell_type": "code",
      "source": [
        "import re\n",
        "\n",
        "def count_word_occurrences(file_path, word):\n",
        "    \"\"\"\n",
        "    Reads a file and counts the occurrences of a specific word (case-insensitive).\n",
        "\n",
        "    Args:\n",
        "        file_path (str): The path to the file.\n",
        "        word (str): The word to count.\n",
        "\n",
        "    Returns:\n",
        "        int: The number of occurrences of the word in the file.\n",
        "    \"\"\"\n",
        "    count = 0\n",
        "    try:\n",
        "        with open(file_path, 'r') as file:\n",
        "            content = file.read()\n",
        "            # Use re.findall with re.IGNORECASE to find all occurrences of the word\n",
        "            # \\b ensures that we match whole words only\n",
        "            occurrences = re.findall(r'\\b' + re.escape(word) + r'\\b', content, re.IGNORECASE)\n",
        "            count = len(occurrences)\n",
        "    except FileNotFoundError:\n",
        "        print(f\"Error: The file '{file_path}' was not found.\")\n",
        "    except IOError as e:\n",
        "        print(f\"Error reading file: {e}\")\n",
        "    return count\n",
        "\n",
        "# --- Example Usage ---\n",
        "\n",
        "# Create a sample file for testing\n",
        "sample_file_content = \"\"\"\n",
        "This is a sample file.\n",
        "It contains sample text with the word sample repeated.\n",
        "Sample, sample, sample.\n",
        "Another line.\n",
        "\"\"\"\n",
        "sample_file_path = \"sample_text_file.txt\"\n",
        "try:\n",
        "    with open(sample_file_path, \"w\") as f:\n",
        "        f.write(sample_file_content)\n",
        "    print(f\"Created sample file: '{sample_file_path}'\")\n",
        "except IOError as e:\n",
        "    print(f\"Error creating sample file: {e}\")\n",
        "\n",
        "word_to_find = \"sample\"\n",
        "occurrence_count = count_word_occurrences(sample_file_path, word_to_find)\n",
        "\n",
        "if occurrence_count > -1: # Check if the function returned a valid count (not -1 from error)\n",
        "    print(f\"\\nThe word '{word_to_find}' appears {occurrence_count} times in '{sample_file_path}'.\")\n",
        "\n",
        "# Test with a non-existent file\n",
        "print(\"\\nTesting with a non-existent file:\")\n",
        "count_word_occurrences(\"non_existent_file.txt\", \"test\")\n",
        "\n",
        "# Optional: Clean up the sample file\n",
        "import os\n",
        "try:\n",
        "    if os.path.exists(sample_file_path):\n",
        "        os.remove(sample_file_path)\n",
        "        print(f\"\\nCleaned up '{sample_file_path}'.\")\n",
        "except OSError as e:\n",
        "    print(f\"Error removing sample file: {e}\")"
      ],
      "metadata": {
        "colab": {
          "base_uri": "https://localhost:8080/"
        },
        "id": "FEiJOgaEtEX7",
        "outputId": "a247aedc-c92f-43de-df08-63446eb8032c"
      },
      "execution_count": 31,
      "outputs": [
        {
          "output_type": "stream",
          "name": "stdout",
          "text": [
            "Created sample file: 'sample_text_file.txt'\n",
            "\n",
            "The word 'sample' appears 6 times in 'sample_text_file.txt'.\n",
            "\n",
            "Testing with a non-existent file:\n",
            "Error: The file 'non_existent_file.txt' was not found.\n",
            "\n",
            "Cleaned up 'sample_text_file.txt'.\n"
          ]
        }
      ]
    },
    {
      "cell_type": "markdown",
      "source": [
        "22.How can you check if a file is empty before attempting to read its contents?"
      ],
      "metadata": {
        "id": "m8LlFu37c0ti"
      }
    },
    {
      "cell_type": "code",
      "source": [
        "import os\n",
        "\n",
        "def is_file_empty(file_path):\n",
        "    \"\"\"\n",
        "    Checks if a file is empty.\n",
        "\n",
        "    Args:\n",
        "        file_path (str): The path to the file.\n",
        "\n",
        "    Returns:\n",
        "        bool: True if the file exists and is empty, False otherwise.\n",
        "    \"\"\"\n",
        "    if not os.path.exists(file_path):\n",
        "        print(f\"Error: File '{file_path}' not found.\")\n",
        "        return False  # Or raise an exception, depending on desired behavior\n",
        "    elif os.path.getsize(file_path) == 0:\n",
        "        return True\n",
        "    else:\n",
        "        return False\n",
        "\n",
        "# --- Example Usage ---\n",
        "\n",
        "# Create a dummy empty file\n",
        "empty_file_path = \"empty_check_file_empty.txt\"\n",
        "try:\n",
        "    with open(empty_file_path, \"w\") as f:\n",
        "        pass # Create an empty file\n",
        "    print(f\"Created empty file: '{empty_file_path}'\")\n",
        "except IOError as e:\n",
        "    print(f\"Error creating empty file: {e}\")\n",
        "\n",
        "# Create a dummy file with content\n",
        "content_file_path = \"empty_check_file_with_content.txt\"\n",
        "try:\n",
        "    with open(content_file_path, \"w\") as f:\n",
        "        f.write(\"This file has content.\")\n",
        "    print(f\"Created file with content: '{content_file_path}'\")\n",
        "except IOError as e:\n",
        "    print(f\"Error creating file with content: {e}\")\n",
        "\n",
        "# Test with the empty file\n",
        "print(f\"\\nChecking if '{empty_file_path}' is empty:\")\n",
        "if is_file_empty(empty_file_path):\n",
        "    print(f\"'{empty_file_path}' is empty.\")\n",
        "else:\n",
        "    print(f\"'{empty_file_path}' is not empty.\")\n",
        "\n",
        "# Test with the file with content\n",
        "print(f\"\\nChecking if '{content_file_path}' is empty:\")\n",
        "if is_file_empty(content_file_path):\n",
        "    print(f\"'{content_file_path}' is empty.\")\n",
        "else:\n",
        "    print(f\"'{content_file_path}' is not empty.\")\n",
        "\n",
        "# Test with a non-existent file\n",
        "print(\"\\nChecking if a non-existent file is empty:\")\n",
        "if is_file_empty(\"non_existent_file_for_empty_check.txt\"):\n",
        "    print(\"The non-existent file is empty (should not happen if existence is checked first).\")\n",
        "else:\n",
        "    print(\"The non-existent file is not empty (or doesn't exist).\")\n",
        "\n",
        "# Clean up dummy files\n",
        "try:\n",
        "    if os.path.exists(empty_file_path):\n",
        "        os.remove(empty_file_path)\n",
        "        print(f\"\\nCleaned up '{empty_file_path}'.\")\n",
        "    if os.path.exists(content_file_path):\n",
        "        os.remove(content_file_path)\n",
        "        print(f\"Cleaned up '{content_file_path}'.\")\n",
        "except OSError as e:\n",
        "    print(f\"Error removing test files: {e}\")"
      ],
      "metadata": {
        "colab": {
          "base_uri": "https://localhost:8080/"
        },
        "id": "3VDsy9U7tMX5",
        "outputId": "90b5cf49-a8fe-422b-c965-e5a5487f2dd5"
      },
      "execution_count": 32,
      "outputs": [
        {
          "output_type": "stream",
          "name": "stdout",
          "text": [
            "Created empty file: 'empty_check_file_empty.txt'\n",
            "Created file with content: 'empty_check_file_with_content.txt'\n",
            "\n",
            "Checking if 'empty_check_file_empty.txt' is empty:\n",
            "'empty_check_file_empty.txt' is empty.\n",
            "\n",
            "Checking if 'empty_check_file_with_content.txt' is empty:\n",
            "'empty_check_file_with_content.txt' is not empty.\n",
            "\n",
            "Checking if a non-existent file is empty:\n",
            "Error: File 'non_existent_file_for_empty_check.txt' not found.\n",
            "The non-existent file is not empty (or doesn't exist).\n",
            "\n",
            "Cleaned up 'empty_check_file_empty.txt'.\n",
            "Cleaned up 'empty_check_file_with_content.txt'.\n"
          ]
        }
      ]
    },
    {
      "cell_type": "markdown",
      "source": [
        "23.Write a Python program that writes to a log file when an error occurs during file handling?"
      ],
      "metadata": {
        "id": "XpqdOwSJdDkV"
      }
    },
    {
      "cell_type": "code",
      "source": [
        "import logging\n",
        "import os\n",
        "\n",
        "# Configure logging to write to a file\n",
        "logging.basicConfig(filename='file_handling_errors.log', level=logging.ERROR,\n",
        "                    format='%(asctime)s - %(levelname)s - %(message)s')\n",
        "\n",
        "def read_file_safely(file_path):\n",
        "    \"\"\"\n",
        "    Attempts to read a file and logs an error if file handling fails.\n",
        "    \"\"\"\n",
        "    try:\n",
        "        with open(file_path, 'r') as f:\n",
        "            content = f.read()\n",
        "            print(f\"Successfully read content from '{file_path}'.\")\n",
        "            print(\"Content:\", content)\n",
        "    except FileNotFoundError:\n",
        "        error_message = f\"Error: File '{file_path}' not found.\"\n",
        "        logging.error(error_message)\n",
        "        print(f\"An error occurred and was logged: {error_message}\")\n",
        "    except IOError as e:\n",
        "        error_message = f\"Error reading file '{file_path}': {e}\"\n",
        "        logging.error(error_message)\n",
        "        print(f\"An error occurred and was logged: {error_message}\")\n",
        "    except Exception as e:\n",
        "        error_message = f\"An unexpected error occurred while handling file '{file_path}': {e}\"\n",
        "        logging.error(error_message)\n",
        "        print(f\"An unexpected error occurred and was logged: {error_message}\")\n",
        "\n",
        "# --- Example Usage ---\n",
        "\n",
        "# Test with a non-existent file (will cause FileNotFoundError)\n",
        "print(\"--- Testing with a non-existent file ---\")\n",
        "read_file_safely(\"non_existent_file_for_logging.txt\")\n",
        "print(\"-\" * 20)\n",
        "\n",
        "# Test with a file that might cause an IOError (e.g., permission error - might need to run as admin for this)\n",
        "# Create a dummy file first for potential IOError testing (though permission errors are harder to simulate simply)\n",
        "dummy_file_path = \"dummy_file_for_ioerror.txt\"\n",
        "try:\n",
        "    with open(dummy_file_path, \"w\") as f:\n",
        "        f.write(\"This is a dummy file.\")\n",
        "    print(f\"Created dummy file: '{dummy_file_path}'\")\n",
        "    # To simulate a permission error, you would typically change file permissions\n",
        "    # os.chmod(dummy_file_path, 0o400) # Example: make file read-only for owner, might not work in all environments\n",
        "except IOError as e:\n",
        "    print(f\"Error creating dummy file: {e}\")\n",
        "\n",
        "# Attempt to read the dummy file (if permission error is simulated, it will be caught)\n",
        "print(f\"\\n--- Testing with dummy file '{dummy_file_path}' ---\")\n",
        "read_file_safely(dummy_file_path)\n",
        "print(\"-\" * 20)\n",
        "\n",
        "# Test with a file that exists and can be read\n",
        "existing_file_path = \"my_file.txt\" # Assuming this file was created by a previous example\n",
        "print(f\"\\n--- Testing with existing file '{existing_file_path}' ---\")\n",
        "read_file_safely(existing_file_path)\n",
        "print(\"-\" * 20)\n",
        "\n",
        "\n",
        "# Optional: Clean up the dummy file\n",
        "try:\n",
        "    if os.path.exists(dummy_file_path):\n",
        "        os.remove(dummy_file_path)\n",
        "        print(f\"\\nCleaned up '{dummy_file_path}'.\")\n",
        "except OSError as e:\n",
        "    print(f\"Error removing dummy file: {e}\")"
      ],
      "metadata": {
        "colab": {
          "base_uri": "https://localhost:8080/"
        },
        "id": "L-g1UHRMtV4w",
        "outputId": "77aa04c6-0415-4bf9-fbd2-617561031444"
      },
      "execution_count": 33,
      "outputs": [
        {
          "output_type": "stream",
          "name": "stderr",
          "text": [
            "ERROR:root:Error: File 'non_existent_file_for_logging.txt' not found.\n"
          ]
        },
        {
          "output_type": "stream",
          "name": "stdout",
          "text": [
            "--- Testing with a non-existent file ---\n",
            "An error occurred and was logged: Error: File 'non_existent_file_for_logging.txt' not found.\n",
            "--------------------\n",
            "Created dummy file: 'dummy_file_for_ioerror.txt'\n",
            "\n",
            "--- Testing with dummy file 'dummy_file_for_ioerror.txt' ---\n",
            "Successfully read content from 'dummy_file_for_ioerror.txt'.\n",
            "Content: This is a dummy file.\n",
            "--------------------\n",
            "\n",
            "--- Testing with existing file 'my_file.txt' ---\n",
            "Successfully read content from 'my_file.txt'.\n",
            "Content: This is the first line.\n",
            "This is the second line.\n",
            "This is the third line.\n",
            "\n",
            "--------------------\n",
            "\n",
            "Cleaned up 'dummy_file_for_ioerror.txt'.\n"
          ]
        }
      ]
    }
  ]
}